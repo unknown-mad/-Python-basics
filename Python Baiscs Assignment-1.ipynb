{
 "cells": [
  {
   "cell_type": "code",
   "execution_count": null,
   "metadata": {},
   "outputs": [
    {
     "ename": "",
     "evalue": "",
     "output_type": "error",
     "traceback": [
      "\u001b[1;31mRunning cells with 'Python 3.12.5' requires the ipykernel package.\n",
      "\u001b[1;31mRun the following command to install 'ipykernel' into the Python environment. \n",
      "\u001b[1;31mCommand: 'c:/Python312/python.exe -m pip install ipykernel -U --user --force-reinstall'"
     ]
    }
   ],
   "source": [
    "# Python Basics-Assignment\n",
    "# A. Theory Question\n"
   ]
  },
  {
   "cell_type": "code",
   "execution_count": null,
   "metadata": {},
   "outputs": [],
   "source": [
    "# 1.What is Python, and why is it popular \n",
    "# ANS Python is a high-level, interpreted programming language that emphasizes readability and simplicity. It was created by Guido van Rossum \n",
    "# and first released in 1991. Python is designed to be easy to understand and write, making it a great choice for beginners, while also powerful \n",
    "# enough for professionals in various fields.\n",
    "\n",
    "# Pouplarity of Python\n",
    "# 1.Readability and Simplicity\n",
    "# 2.Versatility\n",
    "# 3.Large Ecosystem and Libraries\n",
    "# 4.Cross-Platform Compatibility\n",
    "# 5.Community Support\n",
    "# 6.Integration Capabilities"
   ]
  },
  {
   "cell_type": "code",
   "execution_count": null,
   "metadata": {},
   "outputs": [],
   "source": [
    "# 2.What is an interpreter in Python \n",
    "# ANS An interpreter in Python translates the human-readable Python code into a format that the computer can execute, processing the code line \n",
    "# by line. While this offers benefits like ease of debugging and platform independence, it can result in slower execution times compared \n",
    "# to compiled languages."
   ]
  },
  {
   "cell_type": "code",
   "execution_count": null,
   "metadata": {},
   "outputs": [],
   "source": []
  },
  {
   "cell_type": "code",
   "execution_count": null,
   "metadata": {},
   "outputs": [],
   "source": [
    "# 3. What are pre-defined keywords in Python \n",
    "# ANS Pre-defined keywords (also known as reserved words) are special words that have a specific meaning and functionality in the language. \n",
    "# They cannot be used as identifiers\n",
    "\n",
    "\n",
    "# False      await      else       import     pass\n",
    "# None       break      except     in         raise\n",
    "# True       class      finally    is         return\n",
    "# and        continue   for        lambda     try\n",
    "# as         def        from       nonlocal   while\n",
    "# assert     del        global     not        with\n",
    "# async      elif       if         or         yield"
   ]
  },
  {
   "cell_type": "code",
   "execution_count": null,
   "metadata": {},
   "outputs": [],
   "source": [
    "# 4. Can keywords be used as variable names\n",
    "# ANS NO "
   ]
  },
  {
   "cell_type": "code",
   "execution_count": null,
   "metadata": {},
   "outputs": [],
   "source": [
    "# 5.What is mutability in Python \n",
    "# ANS Mutability in Python refers to whether or not an object’s state or value can be modified after it has been created.\n",
    "# example 1. list\n",
    "#         2. Dictionaries\n",
    "#         3. sets \n",
    "            "
   ]
  },
  {
   "cell_type": "code",
   "execution_count": null,
   "metadata": {},
   "outputs": [],
   "source": [
    "# 6.Why are lists mutable, but tuples are immutable \n",
    "# ANS Lists: Lists are designed for scenarios where you need to modify the collection of items. They are flexible, allowing for additions, \n",
    "# deletions, and changes to the elements. This flexibility is great for situations where you need to frequently alter the data.\n",
    "\n",
    "# Tuples: Tuples, on the other hand, are designed for cases where the collection of items should remain constant. They are often used to represent\n",
    "#  fixed data or sequences that should not be changed, like coordinates (x, y) or records with a known set of fields. Their immutability provides \n",
    "#  a guarantee that the data won't be inadvertently modified."
   ]
  },
  {
   "cell_type": "code",
   "execution_count": null,
   "metadata": {},
   "outputs": [],
   "source": [
    "# 7.What is the difference between “==” and “is” operators in Python \n",
    "# ANS == Operator:\n",
    "# Purpose: The == operator checks if the values of two objects are equal.\n",
    "# It compares the contents or data stored in the objects, not the objects themselves.\n",
    "\n",
    "# is  Operator:\n",
    "# Purpose: The is operator checks if two objects refer to the same memory location (i.e., they are the same object in memory).\n",
    "# It compares the identity of the objects, not their content."
   ]
  },
  {
   "cell_type": "code",
   "execution_count": null,
   "metadata": {},
   "outputs": [],
   "source": [
    "# 8.What are logical operators in Python \n",
    "# ANS In Python, logical operators are used to combine conditional statements (or expressions) and return a boolean result (True or False). \n",
    "# These operators are commonly used in control flow statements like if and while to make decisions based on multiple conditions.\n",
    "\n",
    "# 1. and\n",
    "# 2. or\n",
    "# 3. not\n"
   ]
  },
  {
   "cell_type": "code",
   "execution_count": null,
   "metadata": {},
   "outputs": [],
   "source": [
    "# 9. What is type casting in Python \n",
    "# ANS Type casting in Python refers to converting a variable from one data type to another. Python provides built-in functions that allow you to \n",
    "# change an object’s type to another, either explicitly (by you) or implicitly (done automatically by Python in certain situations). This is useful\n",
    "#  when you need to perform operations on data of different types."
   ]
  },
  {
   "cell_type": "code",
   "execution_count": null,
   "metadata": {},
   "outputs": [],
   "source": [
    "# 10. What is the difference between implicit and explicit type casting \n",
    "# ANS 1. Implicit Type Casting initated automatically but explicit casting initated manually\n",
    "#     2. less control by the programmer but Explicit Casting having full control of the programmer"
   ]
  },
  {
   "cell_type": "code",
   "execution_count": null,
   "metadata": {},
   "outputs": [],
   "source": [
    "# 11.What is the purpose of conditional statements in Python \n",
    "# ANS The purpose of conditional statements in Python is to allow your program to make decisions based on whether \n",
    "# a condition is True or False. These statements enable your program to execute certain blocks of code only when specific conditions \n",
    "# re met, which helps create dynamic behavior based on inputs, computations, or state changes."
   ]
  },
  {
   "cell_type": "code",
   "execution_count": null,
   "metadata": {},
   "outputs": [],
   "source": [
    "# 12. How does the elif statement work \n",
    "# ANS The elif statement in Python stands for \"else if\". It allows you to check multiple conditions in a chain, following an initial if statement. \n",
    "# If the condition in the if statement is False, the program will move on to check the condition(s) in the elif block(s). If an elif condition \n",
    "# is True, its block of code will be executed, and the rest of the conditions are ignored."
   ]
  },
  {
   "cell_type": "code",
   "execution_count": null,
   "metadata": {},
   "outputs": [],
   "source": [
    "# 13.What is the difference between for and while loops \n",
    "# ANS 1. for Loop:\n",
    "# A for loop is typically used when the number of iterations is known beforehand or is finite.\n",
    "# It iterates over a sequence (such as a list, string, or range), executing the block of code for each element in that sequence.\n",
    "# The loop automatically stops when it has gone through all the elements in the sequence.\n",
    "\n",
    "\n",
    "# 2.A while loop is used when the number of iterations is not known beforehand and the loop should continue as long as a certain condition is True.\n",
    "# The loop runs until the condition becomes False. If the condition is True initially, it will keep running indefinitely unless you break out of it or change the condition inside the loop."
   ]
  },
  {
   "cell_type": "code",
   "execution_count": null,
   "metadata": {},
   "outputs": [],
   "source": [
    "# 14.Describe a scenario where a while loop is more suitable than a for loop\n",
    "# ANS A while loop is more suitable than a for loop in scenarios where you don't know the exact number of iterations beforehand \n",
    "# nd the loop should continue based on a condition that could change dynamically during the loop's execution.\n",
    "\n",
    "# Scenario: User Input Validation\n",
    "# Imagine we asks the user for their age until they enter a valid number (for example, a positive integer). Since you don't know how many times it\n",
    "#  will take for the user to enter a valid input, a while loop is ideal because it keeps asking until the condition (valid input) is met."
   ]
  },
  {
   "cell_type": "code",
   "execution_count": null,
   "metadata": {},
   "outputs": [],
   "source": [
    "# B. Pratical"
   ]
  },
  {
   "cell_type": "code",
   "execution_count": 2,
   "metadata": {},
   "outputs": [
    {
     "name": "stdout",
     "output_type": "stream",
     "text": [
      "Hello World\n"
     ]
    }
   ],
   "source": [
    "# 1 Write a Python program to print \"Hello, World!\n",
    "# ANS\n",
    "print(\"Hello World\")"
   ]
  },
  {
   "cell_type": "code",
   "execution_count": 1,
   "metadata": {},
   "outputs": [
    {
     "name": "stdout",
     "output_type": "stream",
     "text": [
      "Name  prakash parihar\n",
      "Age 31\n"
     ]
    }
   ],
   "source": [
    "  # 2. Write a Python program that displays your name and age\n",
    "# AND\n",
    "name= \"prakash parihar\"\n",
    "age = 31\n",
    "\n",
    "print(\"Name \",name)\n",
    "print(\"Age\",age)"
   ]
  },
  {
   "cell_type": "code",
   "execution_count": 4,
   "metadata": {},
   "outputs": [
    {
     "name": "stdout",
     "output_type": "stream",
     "text": [
      "Python Keywords: ['False', 'None', 'True', 'and', 'as', 'assert', 'async', 'await', 'break', 'class', 'continue', 'def', 'del', 'elif', 'else', 'except', 'finally', 'for', 'from', 'global', 'if', 'import', 'in', 'is', 'lambda', 'nonlocal', 'not', 'or', 'pass', 'raise', 'return', 'try', 'while', 'with', 'yield']\n"
     ]
    }
   ],
   "source": [
    "# 3. Write code to print all the pre-defined keywords in Python using the keyword library\n",
    "# ANS\n",
    "import keyword\n",
    "print(\"Python Keywords:\",keyword.kwlist)\n"
   ]
  },
  {
   "cell_type": "code",
   "execution_count": 13,
   "metadata": {},
   "outputs": [
    {
     "name": "stdin",
     "output_type": "stream",
     "text": [
      "Enter word to check prakash\n"
     ]
    },
    {
     "name": "stdout",
     "output_type": "stream",
     "text": [
      "'prakash'is a not Python Keyword\n"
     ]
    }
   ],
   "source": [
    "# 4. Write a program that checks if a given word is a Python keyword.\n",
    "# ANS\n",
    "import keyword\n",
    "\n",
    "def keyword_check(word):\n",
    "  if keyword.iskeyword(word):\n",
    "    print(f\"'{word}'is a Python Keyword\")\n",
    "  else:\n",
    "    print(f\"'{word}'is a not Python Keyword\")\n",
    "\n",
    "word = input(\"Enter word to check\")\n",
    "keyword_check(word)"
   ]
  },
  {
   "cell_type": "code",
   "execution_count": 18,
   "metadata": {},
   "outputs": [
    {
     "name": "stdout",
     "output_type": "stream",
     "text": [
      "'[1, 2, 3, 4]'Oringal List\n",
      "'[1, 100, 3, 4]'Modified List\n",
      "'(5, 6, 7, 8)'Oringal Tuple\n"
     ]
    },
    {
     "ename": "TypeError",
     "evalue": "'tuple' object does not support item assignment",
     "output_type": "error",
     "traceback": [
      "\u001b[1;31m---------------------------------------------------------------------------\u001b[0m",
      "\u001b[1;31mTypeError\u001b[0m                                 Traceback (most recent call last)",
      "Cell \u001b[1;32mIn[18], line 10\u001b[0m\n\u001b[0;32m      8\u001b[0m b\u001b[38;5;241m=\u001b[39m(\u001b[38;5;241m5\u001b[39m,\u001b[38;5;241m6\u001b[39m,\u001b[38;5;241m7\u001b[39m,\u001b[38;5;241m8\u001b[39m)\n\u001b[0;32m      9\u001b[0m \u001b[38;5;28mprint\u001b[39m(\u001b[38;5;124mf\u001b[39m\u001b[38;5;124m\"\u001b[39m\u001b[38;5;124m'\u001b[39m\u001b[38;5;132;01m{\u001b[39;00mb\u001b[38;5;132;01m}\u001b[39;00m\u001b[38;5;124m'\u001b[39m\u001b[38;5;124mOringal Tuple\u001b[39m\u001b[38;5;124m\"\u001b[39m)\n\u001b[1;32m---> 10\u001b[0m b[\u001b[38;5;241m1\u001b[39m]\u001b[38;5;241m=\u001b[39m\u001b[38;5;241m100\u001b[39m\n\u001b[0;32m     11\u001b[0m \u001b[38;5;28mprint\u001b[39m(\u001b[38;5;124mf\u001b[39m\u001b[38;5;124m\"\u001b[39m\u001b[38;5;124m'\u001b[39m\u001b[38;5;132;01m{\u001b[39;00mb\u001b[38;5;132;01m}\u001b[39;00m\u001b[38;5;124m'\u001b[39m\u001b[38;5;124mModified List\u001b[39m\u001b[38;5;124m\"\u001b[39m)\n",
      "\u001b[1;31mTypeError\u001b[0m: 'tuple' object does not support item assignment"
     ]
    }
   ],
   "source": [
    "# 5. Create a list and tuple in Python, and demonstrate how attempting to change an element works differently\n",
    "# Ans\n",
    "a=[1,2,3,4]\n",
    "print(f\"'{a}'Oringal List\")\n",
    "a[1]=100\n",
    "print(f\"'{a}'Modified List\")\n",
    "\n",
    "b=(5,6,7,8)\n",
    "print(f\"'{b}'Oringal Tuple\")\n",
    "b[1]=100\n",
    "print(f\"'{b}'Modified List\")"
   ]
  },
  {
   "cell_type": "code",
   "execution_count": null,
   "metadata": {},
   "outputs": [],
   "source": [
    "# 6. Write a function to demonstrate the behavior of mutable and immutable arguments.\n",
    "# ANS\n"
   ]
  },
  {
   "cell_type": "code",
   "execution_count": 20,
   "metadata": {},
   "outputs": [
    {
     "name": "stdout",
     "output_type": "stream",
     "text": [
      "Addition of two Number 10\n"
     ]
    }
   ],
   "source": [
    "# 7. Write a program that performs basic arithmetic operations on two user-input numbers\n",
    "# ANS\n",
    "a=5;\n",
    "b=5;\n",
    "c=a+b;\n",
    "\n",
    "print(\"Addition of two Number =\",c)"
   ]
  },
  {
   "cell_type": "code",
   "execution_count": null,
   "metadata": {},
   "outputs": [],
   "source": [
    "# 8.Write a program to demonstrate the use of logical operators.\n",
    "# ANS\n",
    "\n",
    "a=int(input(\"Enter first number\"))\n",
    "b=int(input(\"Enter Second number\"))\n",
    "\n",
    "if a>0 and b>0:\n",
    "\n",
    "     print(\"Both NUmber Positive\")\n",
    "else:    \n",
    "    print(\"Atleast 1 number and Both NUmber Negative\")"
   ]
  },
  {
   "cell_type": "code",
   "execution_count": null,
   "metadata": {},
   "outputs": [],
   "source": [
    "# 9.Write a Python program to convert user input from string to integer, float, and boolean types\n",
    "# ANS\n",
    "\n"
   ]
  },
  {
   "cell_type": "code",
   "execution_count": null,
   "metadata": {},
   "outputs": [],
   "source": [
    "# 10.  Write a program that checks if a number is positive, negative, or zero.\n",
    "# ANS\n",
    "a= int(input(\"Enter number\"))\n",
    "if a>0:\n",
    "    print(\"Number is Positive\")\n",
    "elif a<0:\n",
    "    print(\"Number is Negative\")\n",
    "    \n",
    "    print(\"Number is Zero\")"
   ]
  },
  {
   "cell_type": "code",
   "execution_count": null,
   "metadata": {},
   "outputs": [],
   "source": [
    "# 11.. Write a for loop to print numbers from 1 to 10.\n",
    "# ANS            \n",
    "for i in range(0,10)\n",
    "print(i)"
   ]
  },
  {
   "cell_type": "code",
   "execution_count": null,
   "metadata": {},
   "outputs": [],
   "source": [
    "\n",
    "# 12.Write a for loop to print numbers from 1 to 10.\n",
    "# ANS\n",
    "for num in range(1, 11):\n",
    "    print(num)\n"
   ]
  },
  {
   "cell_type": "code",
   "execution_count": null,
   "metadata": {},
   "outputs": [],
   "source": [
    "# 13. Write a Python program to find the sum of all even numbers between 1 and 50.\n",
    "# ANS\n",
    "def sum_of_even_numbers():\n",
    "    total = 0\n",
    "    num = 2  \n",
    "\n",
    "    while num <= 50:\n",
    "        total += num\n",
    "        num += 2  \n",
    "\n",
    "    return total\n",
    "\n",
    "\n",
    "print(f\"Sum of even numbers between 1 and 50: {sum_of_even_numbers()}\")\n"
   ]
  },
  {
   "cell_type": "code",
   "execution_count": 5,
   "metadata": {},
   "outputs": [
    {
     "name": "stdin",
     "output_type": "stream",
     "text": [
      "Enter a string:  prakash\n"
     ]
    },
    {
     "name": "stdout",
     "output_type": "stream",
     "text": [
      "Reversed string: <class 'reversed'>\n"
     ]
    }
   ],
   "source": [
    "# 14. Write a program to reverse a string using a while loop.\n",
    "# ANS\n",
    "string = input(\"Enter a string: \")\n",
    "def reverse(s):\n",
    "    a = \"\"\n",
    "    index = len(s) - 1 \n",
    "\n",
    "    while index >= 0:\n",
    "        a += s[index]\n",
    "        index -= 1  \n",
    "\n",
    "    return reversed\n",
    "\n",
    "print(f\"Reversed string: {reverse(string)}\")\n",
    "\n"
   ]
  },
  {
   "cell_type": "code",
   "execution_count": 3,
   "metadata": {},
   "outputs": [
    {
     "name": "stdin",
     "output_type": "stream",
     "text": [
      "Enter a number:  d\n"
     ]
    },
    {
     "ename": "ValueError",
     "evalue": "invalid literal for int() with base 10: 'd'",
     "output_type": "error",
     "traceback": [
      "\u001b[1;31m---------------------------------------------------------------------------\u001b[0m",
      "\u001b[1;31mValueError\u001b[0m                                Traceback (most recent call last)",
      "Cell \u001b[1;32mIn[3], line 11\u001b[0m\n\u001b[0;32m      7\u001b[0m         n \u001b[38;5;241m-\u001b[39m\u001b[38;5;241m=\u001b[39m \u001b[38;5;241m1\u001b[39m\n\u001b[0;32m      8\u001b[0m     \u001b[38;5;28;01mreturn\u001b[39;00m result\n\u001b[1;32m---> 11\u001b[0m num \u001b[38;5;241m=\u001b[39m \u001b[38;5;28mint\u001b[39m(\u001b[38;5;28minput\u001b[39m(\u001b[38;5;124m\"\u001b[39m\u001b[38;5;124mEnter a number: \u001b[39m\u001b[38;5;124m\"\u001b[39m))\n\u001b[0;32m     13\u001b[0m \u001b[38;5;28;01mif\u001b[39;00m num \u001b[38;5;241m<\u001b[39m \u001b[38;5;241m0\u001b[39m:\n\u001b[0;32m     14\u001b[0m     \u001b[38;5;28mprint\u001b[39m(\u001b[38;5;124m\"\u001b[39m\u001b[38;5;124mFactorial is not defined for negative numbers.\u001b[39m\u001b[38;5;124m\"\u001b[39m)\n",
      "\u001b[1;31mValueError\u001b[0m: invalid literal for int() with base 10: 'd'"
     ]
    }
   ],
   "source": [
    "# 15.. Write a Python program to calculate the factorial of a number provided by the user using a while loop.\n",
    "# ANS\n",
    "def reverse_string(s):\n",
    "    reversed_str = \"\"\n",
    "    index = len(s) - 1  \n",
    "\n",
    "    while index >= 0:\n",
    "        reversed_str += s[index]\n",
    "        index -= 1 \n",
    "\n",
    "    return reversed_str\n",
    "\n",
    "\n",
    "string = input(\"Enter a string: \")\n",
    "\n",
    "\n",
    "print(f\"Reversed string: {reverse_string(string)}\")"
   ]
  },
  {
   "cell_type": "code",
   "execution_count": 6,
   "metadata": {},
   "outputs": [
    {
     "name": "stdin",
     "output_type": "stream",
     "text": [
      "Enter a string:  prakash\n"
     ]
    },
    {
     "name": "stdout",
     "output_type": "stream",
     "text": [
      "Reversed string: hsakarp\n"
     ]
    }
   ],
   "source": [
    "\n",
    "\n"
   ]
  },
  {
   "cell_type": "code",
   "execution_count": null,
   "metadata": {},
   "outputs": [],
   "source": []
  }
 ],
 "metadata": {
  "kernelspec": {
   "display_name": "Python 3 (ipykernel)",
   "language": "python",
   "name": "python3"
  },
  "language_info": {
   "codemirror_mode": {
    "name": "ipython",
    "version": 3
   },
   "file_extension": ".py",
   "mimetype": "text/x-python",
   "name": "python",
   "nbconvert_exporter": "python",
   "pygments_lexer": "ipython3",
   "version": "3.12.4"
  }
 },
 "nbformat": 4,
 "nbformat_minor": 4
}
